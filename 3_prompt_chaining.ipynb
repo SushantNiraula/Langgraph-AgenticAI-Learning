{
 "cells": [
  {
   "cell_type": "code",
   "execution_count": 48,
   "id": "d7ef8515",
   "metadata": {},
   "outputs": [],
   "source": [
    "from langgraph.graph import StateGraph, START, END\n",
    "from langchain_openai import AzureChatOpenAI\n",
    "from typing import TypedDict\n",
    "from dotenv import load_dotenv\n",
    "import os"
   ]
  },
  {
   "cell_type": "code",
   "execution_count": 49,
   "id": "e5c68062",
   "metadata": {},
   "outputs": [
    {
     "data": {
      "text/plain": [
       "True"
      ]
     },
     "execution_count": 49,
     "metadata": {},
     "output_type": "execute_result"
    }
   ],
   "source": [
    "load_dotenv()"
   ]
  },
  {
   "cell_type": "code",
   "execution_count": 50,
   "id": "713e6cff",
   "metadata": {},
   "outputs": [],
   "source": [
    "model= AzureChatOpenAI(azure_deployment=os.getenv(\"AZURE_OPENAI_DEPLOYMENT_NAME\"),\n",
    "    azure_endpoint=os.getenv(\"AZURE_OPENAI_ENDPOINT\"),\n",
    "    model=os.getenv(\"AZURE_OPENAI_MODEL_NAME\"),\n",
    "    api_version=os.getenv(\"AZURE_OPENAI_API_VERSION\"),\n",
    "    max_tokens=1000,\n",
    ")"
   ]
  },
  {
   "cell_type": "code",
   "execution_count": 51,
   "id": "ba1c01d2",
   "metadata": {},
   "outputs": [],
   "source": [
    "class BlogState(TypedDict):\n",
    "    title: str\n",
    "    outline: str\n",
    "    content: str\n",
    "    evaluate: int"
   ]
  },
  {
   "cell_type": "code",
   "execution_count": 52,
   "id": "74ace885",
   "metadata": {},
   "outputs": [],
   "source": [
    "def create_outline(state: BlogState) -> BlogState:\n",
    "    title= state['title']\n",
    "    prompt = f'Generate an outline for a blog on the topic - {title}'\n",
    "    response=model.invoke(prompt)\n",
    "    state['outline'] = response.content\n",
    "    return state"
   ]
  },
  {
   "cell_type": "code",
   "execution_count": 53,
   "id": "79b641a3",
   "metadata": {},
   "outputs": [],
   "source": [
    "def create_blog(state: BlogState) -> BlogState:\n",
    "    outline = state['outline']\n",
    "    title= state['title']\n",
    "    prompt = f'Write a detailed blog on the title -{title} using the following outline \\n- {outline}'\n",
    "    response=model.invoke(prompt)\n",
    "    state['content'] = response.content\n",
    "    return state"
   ]
  },
  {
   "cell_type": "code",
   "execution_count": 54,
   "id": "b04f085d",
   "metadata": {},
   "outputs": [],
   "source": [
    "def evaluate(state: BlogState) -> BlogState:\n",
    "    content = state['content']\n",
    "    prompt= f' Evaluate the following blog content and rate it between 1 and 10 in integer only:\\n\\n{content}'\n",
    "    response = model.invoke(prompt)\n",
    "    state['evaluate'] = response.content\n",
    "    return state"
   ]
  },
  {
   "cell_type": "code",
   "execution_count": 55,
   "id": "8f2a4563",
   "metadata": {},
   "outputs": [],
   "source": [
    "graph = StateGraph(BlogState)\n",
    "\n",
    "graph.add_node('create_outline', create_outline)\n",
    "graph.add_node('create_blog', create_blog)\n",
    "graph.add_node('evaluate', evaluate)  # Placeholder for evaluation step\n",
    "\n",
    "graph.add_edge(START, 'create_outline')\n",
    "graph.add_edge('create_outline', 'create_blog')\n",
    "graph.add_edge('create_blog', 'evaluate')\n",
    "graph.add_edge('create_blog', END)\n",
    "\n",
    "workflow = graph.compile()\n"
   ]
  },
  {
   "cell_type": "code",
   "execution_count": 56,
   "id": "ea62c216",
   "metadata": {},
   "outputs": [
    {
     "data": {
      "image/png": "[encoded data removed]",
      "text/plain": [
       "<IPython.core.display.Image object>"
      ]
     },
     "execution_count": 56,
     "metadata": {},
     "output_type": "execute_result"
    }
   ],
   "source": [
    "from IPython.display import Image\n",
    "Image(workflow.get_graph().draw_mermaid_png())"
   ]
  },
  {
   "cell_type": "code",
   "execution_count": 57,
   "id": "106776a2",
   "metadata": {},
   "outputs": [
    {
     "name": "stdout",
     "output_type": "stream",
     "text": [
      "{'title': 'Rise of AI in India', 'outline': 'Certainly! Here’s a detailed outline for a blog on **“Rise of AI in India”**:\\n\\n---\\n\\n## Introduction\\n- Brief overview of AI and its global significance.\\n- Setting the context: Why is AI especially relevant for India right now?\\n\\n## Historical Background\\n- Early adoption of AI research in premier Indian institutes.\\n- Milestones in Indian AI journey (including governmental and private initiatives).\\n\\n## Key Drivers of AI Growth in India\\n- Digital India movement.\\n- Expanding internet and smartphone penetration.\\n- Government policies and investments in AI (e.g., NITI Aayog, National AI Strategy).\\n- Booming startup ecosystem.\\n\\n## Major Sectors Transformed by AI\\n- **Healthcare**: Diagnostics, telemedicine, predictive analytics.\\n- **Agriculture**: Crop monitoring, yield prediction, supply chain optimization.\\n- **Education**: Personalized learning, vernacular AI content.\\n- **Finance & Banking**: Fraud detection, automated lending, customer service.\\n- **Retail & E-commerce**: Chatbots, personalized recommendations, inventory management.\\n- **Smart Cities & Infrastructure**.\\n\\n## Leading AI Startups and Initiatives in India\\n- Spotlights on major Indian AI startups (e.g., Fractal Analytics, Artivatic, Niramai).\\n- Corporate giants investing in Indian AI (TCS, Infosys, Reliance).\\n- Academic collaborations and centers of excellence.\\n\\n## Challenges and Roadblocks\\n- Data privacy concerns.\\n- Shortage of skilled AI talent.\\n- Infrastructure and resource limitations.\\n- Ethical and bias issues.\\n\\n## Governmental Role and Policy Support\\n- Schemes, funding, and infrastructure projects.\\n- Focus on AI for social good: language translation, rural development.\\n- International collaborations.\\n\\n## Future Prospects and Opportunities\\n- Prediction for AI job growth.\\n- Potential India-specific AI applications.\\n- India’s ambition to be a global AI hub.\\n\\n## Conclusion\\n- Recap of India’s rapid progress in AI.\\n- Emphasis on collaborative growth for inclusive and sustainable AI-driven transformation.\\n\\n## Call to Action\\n- Encouragement for businesses, professionals, and students to engage with AI.\\n- Invitation to share thoughts or experiences with AI in India in the comments section.\\n\\n---\\n\\n**Optional Add-ons:**\\n- Infographics and charts showing AI growth statistics in India.\\n- Quotes from industry leaders.\\n- List of resources for learning more about AI in the Indian context.', 'content': \"# Rise of AI in India: Charting the Nation’s Digital Destiny\\n\\n## Introduction\\n\\nArtificial Intelligence (AI)—the simulation of human intelligence by machines—is transforming industries, economies, and societies across the globe. With capabilities like learning, reasoning, problem-solving, and language understanding, AI is driving the Fourth Industrial Revolution. For India, with its vast population, diverse economy, and ambitious digital agenda, AI holds particular promise. As the nation surges into a tech-enabled future, AI’s relevance is more profound than ever, making it a crucial tool for solving India’s unique challenges and harnessing its demographic dividend.\\n\\n---\\n\\n## Historical Background\\n\\n### Early Adoption of AI Research\\n\\nIndia’s tryst with AI began in the premier corridors of research about four decades ago. Institutes like the Indian Institutes of Technology (IITs), Indian Statistical Institute, and Indian Institute of Science (IISc) took early strides in computational research and pattern recognition in the 1980s. These academic roots laid the foundation for home-grown AI talent.\\n\\n### Key Milestones\\n\\nThe journey accelerated in the 2000s, coinciding with the explosive growth of India’s IT industry. In the last decade, AI’s footprint has expanded rapidly, spurred by:\\n\\n- **Academia-Industry Collaboration:** New research centers and tie-ups with tech giants.\\n- **Government Pushes:** Initiatives like NITI Aayog's National Strategy for AI (“#AIforAll”), and the setting up of specialized AI units.\\n- **Private Sector Leap:** The emergence of startups and corporate R&D in AI-driven domains.\\n\\n---\\n\\n## Key Drivers of AI Growth in India\\n\\n### 1. Digital India Movement\\n\\nLaunched in 2015, the Digital India program has digitized services, transactions, and governance, generating colossal datasets and digital infrastructure—fertile ground for AI innovation.\\n\\n### 2. Exploding Internet & Smartphone Usage\\n\\nWith over 850 million internet users (2023) and affordable smartphones, Indians are generating massive data volumes—a key fuel for training AI systems.\\n\\n### 3. Progressive Policies and Investments\\n\\nThe government has recognized AI as a strategic lever for growth:\\n\\n- **NITI Aayog’s AI Strategy** emphasizes using AI for inclusive growth—in healthcare, agriculture, education, smart cities, and infrastructure.\\n- **Investments:** Dedicated funds for R&D, incubation centers, and skilling programs.\\n\\n### 4. Booming Startup Ecosystem\\n\\nIndia hosts over 4,000 AI startups, a tenfold increase since 2014, with the country ranking third globally in the number of AI-focused firms. A potent mix of entrepreneurial zeal, technical talent, and investor backing accelerates this momentum.\\n\\n---\\n\\n## Major Sectors Transformed by AI\\n\\n### Healthcare\\n\\n- **Diagnostics:** AI-powered radiology and pathology tools (e.g., Niramai’s breast cancer detection).\\n- **Telemedicine:** Virtual care platforms using predictive analytics.\\n- **Drug Discovery & Hospital Management:** Automating administrative tasks and patient monitoring.\\n\\n### Agriculture\\n\\n- **Crop & Soil Monitoring:** AI-based drones and sensors optimize inputs and increase yields.\\n- **Predictive Analytics:** Weather forecasts, pest outbreaks, and yield predictions help farmers make data-driven decisions.\\n- **Supply Chain Optimization:** Reducing post-harvest losses via intelligent logistics.\\n\\n### Education\\n\\n- **Personalized Learning:** AI tutors adapt to individual learning speeds and styles.\\n- **Content in Vernacular Languages:** Language models break literacy barriers, broadening access.\\n- **Assessment Automation:** Saving teachers’ time and refining outcomes.\\n\\n### Finance & Banking\\n\\n- **Fraud Detection:** Pattern recognition to prevent scams and unauthorized transactions.\\n- **Automated Lending:** Credit scoring and loan disbursement via AI assessments.\\n- **Customer Service:** 24/7 chatbots handle routine queries.\\n\\n### Retail & E-commerce\\n\\n- **Personalized Recommendations:** Matching products to consumer preferences.\\n- **Inventory Management:** AI forecasts demand and optimizes supply chains.\\n- **Customer Experience:** Chatbots and visual search tools enhance engagement.\\n\\n### Smart Cities & Infrastructure\\n\\n- **Urban Mobility:** Smart traffic management and surveillance.\\n- **Energy Management:** AI-enabled grids and consumption predictions.\\n- **Public Safety:** Video analytics for crime detection and prevention.\\n\\n---\\n\\n## Leading AI Startups and Initiatives in India\\n\\n### Notable Startups\\n\\n- **Fractal Analytics:** Data-driven decision-making and AI-powered analytics for global clients.\\n- **Niramai:** Pioneering non-invasive, AI-based breast cancer screening.\\n- **Artivatic:** Deep learning for insurtech and fintech, enabling automated underwriting.\\n\\n### Established Giants\\n\\n- **TCS, Infosys, Wipro:** Investing in AI R&D, launching platforms in automation, analytics, and enterprise transformation.\\n- **Reliance Industries:** Acquiring AI firms and building India-specific AI capabilities in telecom, retail, and digital services.\\n\\n### Collaborations & Centers of Excellence\\n\\n- **Academic\", 'evaluate': '8\\n\\n**Reasoning:**  \\nThe blog is comprehensive, well-structured, and covers multiple aspects of AI in India: historical background, key growth drivers, sectoral impact, and leading companies/initiatives. The writing is clear, factual, and shows an understanding of the landscape. The content is data-rich and includes specific examples (e.g., Niramai, number of startups), government policies, and investments.\\n\\n**What keeps it from a 9 or 10:**\\n- The concluding section appears cut off (ends abruptly at \"Academic\"), missing closure and a call to action or forecast that would give the post more impact.\\n- Visuals, infographics, or quotes (if included) could increase engagement.\\n- While informative, it could offer a bit more critical analysis (e.g., discussing ethical challenges, skill gaps, or risks of AI adoption in India).\\n\\nOverall: A strong, informative blog draft with room for slight improvement mainly in closure and deeper insights.'}\n"
     ]
    }
   ],
   "source": [
    "input_state= {'title': 'Rise of AI in India'}\n",
    "final_state= workflow.invoke(input=input_state)\n",
    "print(final_state)"
   ]
  },
  {
   "cell_type": "code",
   "execution_count": 58,
   "id": "9084fc0e",
   "metadata": {},
   "outputs": [
    {
     "name": "stdout",
     "output_type": "stream",
     "text": [
      "Certainly! Here’s a detailed outline for a blog on **“Rise of AI in India”**:\n",
      "\n",
      "---\n",
      "\n",
      "## Introduction\n",
      "- Brief overview of AI and its global significance.\n",
      "- Setting the context: Why is AI especially relevant for India right now?\n",
      "\n",
      "## Historical Background\n",
      "- Early adoption of AI research in premier Indian institutes.\n",
      "- Milestones in Indian AI journey (including governmental and private initiatives).\n",
      "\n",
      "## Key Drivers of AI Growth in India\n",
      "- Digital India movement.\n",
      "- Expanding internet and smartphone penetration.\n",
      "- Government policies and investments in AI (e.g., NITI Aayog, National AI Strategy).\n",
      "- Booming startup ecosystem.\n",
      "\n",
      "## Major Sectors Transformed by AI\n",
      "- **Healthcare**: Diagnostics, telemedicine, predictive analytics.\n",
      "- **Agriculture**: Crop monitoring, yield prediction, supply chain optimization.\n",
      "- **Education**: Personalized learning, vernacular AI content.\n",
      "- **Finance & Banking**: Fraud detection, automated lending, customer service.\n",
      "- **Retail & E-commerce**: Chatbots, personalized recommendations, inventory management.\n",
      "- **Smart Cities & Infrastructure**.\n",
      "\n",
      "## Leading AI Startups and Initiatives in India\n",
      "- Spotlights on major Indian AI startups (e.g., Fractal Analytics, Artivatic, Niramai).\n",
      "- Corporate giants investing in Indian AI (TCS, Infosys, Reliance).\n",
      "- Academic collaborations and centers of excellence.\n",
      "\n",
      "## Challenges and Roadblocks\n",
      "- Data privacy concerns.\n",
      "- Shortage of skilled AI talent.\n",
      "- Infrastructure and resource limitations.\n",
      "- Ethical and bias issues.\n",
      "\n",
      "## Governmental Role and Policy Support\n",
      "- Schemes, funding, and infrastructure projects.\n",
      "- Focus on AI for social good: language translation, rural development.\n",
      "- International collaborations.\n",
      "\n",
      "## Future Prospects and Opportunities\n",
      "- Prediction for AI job growth.\n",
      "- Potential India-specific AI applications.\n",
      "- India’s ambition to be a global AI hub.\n",
      "\n",
      "## Conclusion\n",
      "- Recap of India’s rapid progress in AI.\n",
      "- Emphasis on collaborative growth for inclusive and sustainable AI-driven transformation.\n",
      "\n",
      "## Call to Action\n",
      "- Encouragement for businesses, professionals, and students to engage with AI.\n",
      "- Invitation to share thoughts or experiences with AI in India in the comments section.\n",
      "\n",
      "---\n",
      "\n",
      "**Optional Add-ons:**\n",
      "- Infographics and charts showing AI growth statistics in India.\n",
      "- Quotes from industry leaders.\n",
      "- List of resources for learning more about AI in the Indian context.\n"
     ]
    }
   ],
   "source": [
    "print(final_state['outline'])"
   ]
  },
  {
   "cell_type": "code",
   "execution_count": 59,
   "id": "988eec2a",
   "metadata": {},
   "outputs": [
    {
     "name": "stdout",
     "output_type": "stream",
     "text": [
      "# Rise of AI in India: Charting the Nation’s Digital Destiny\n",
      "\n",
      "## Introduction\n",
      "\n",
      "Artificial Intelligence (AI)—the simulation of human intelligence by machines—is transforming industries, economies, and societies across the globe. With capabilities like learning, reasoning, problem-solving, and language understanding, AI is driving the Fourth Industrial Revolution. For India, with its vast population, diverse economy, and ambitious digital agenda, AI holds particular promise. As the nation surges into a tech-enabled future, AI’s relevance is more profound than ever, making it a crucial tool for solving India’s unique challenges and harnessing its demographic dividend.\n",
      "\n",
      "---\n",
      "\n",
      "## Historical Background\n",
      "\n",
      "### Early Adoption of AI Research\n",
      "\n",
      "India’s tryst with AI began in the premier corridors of research about four decades ago. Institutes like the Indian Institutes of Technology (IITs), Indian Statistical Institute, and Indian Institute of Science (IISc) took early strides in computational research and pattern recognition in the 1980s. These academic roots laid the foundation for home-grown AI talent.\n",
      "\n",
      "### Key Milestones\n",
      "\n",
      "The journey accelerated in the 2000s, coinciding with the explosive growth of India’s IT industry. In the last decade, AI’s footprint has expanded rapidly, spurred by:\n",
      "\n",
      "- **Academia-Industry Collaboration:** New research centers and tie-ups with tech giants.\n",
      "- **Government Pushes:** Initiatives like NITI Aayog's National Strategy for AI (“#AIforAll”), and the setting up of specialized AI units.\n",
      "- **Private Sector Leap:** The emergence of startups and corporate R&D in AI-driven domains.\n",
      "\n",
      "---\n",
      "\n",
      "## Key Drivers of AI Growth in India\n",
      "\n",
      "### 1. Digital India Movement\n",
      "\n",
      "Launched in 2015, the Digital India program has digitized services, transactions, and governance, generating colossal datasets and digital infrastructure—fertile ground for AI innovation.\n",
      "\n",
      "### 2. Exploding Internet & Smartphone Usage\n",
      "\n",
      "With over 850 million internet users (2023) and affordable smartphones, Indians are generating massive data volumes—a key fuel for training AI systems.\n",
      "\n",
      "### 3. Progressive Policies and Investments\n",
      "\n",
      "The government has recognized AI as a strategic lever for growth:\n",
      "\n",
      "- **NITI Aayog’s AI Strategy** emphasizes using AI for inclusive growth—in healthcare, agriculture, education, smart cities, and infrastructure.\n",
      "- **Investments:** Dedicated funds for R&D, incubation centers, and skilling programs.\n",
      "\n",
      "### 4. Booming Startup Ecosystem\n",
      "\n",
      "India hosts over 4,000 AI startups, a tenfold increase since 2014, with the country ranking third globally in the number of AI-focused firms. A potent mix of entrepreneurial zeal, technical talent, and investor backing accelerates this momentum.\n",
      "\n",
      "---\n",
      "\n",
      "## Major Sectors Transformed by AI\n",
      "\n",
      "### Healthcare\n",
      "\n",
      "- **Diagnostics:** AI-powered radiology and pathology tools (e.g., Niramai’s breast cancer detection).\n",
      "- **Telemedicine:** Virtual care platforms using predictive analytics.\n",
      "- **Drug Discovery & Hospital Management:** Automating administrative tasks and patient monitoring.\n",
      "\n",
      "### Agriculture\n",
      "\n",
      "- **Crop & Soil Monitoring:** AI-based drones and sensors optimize inputs and increase yields.\n",
      "- **Predictive Analytics:** Weather forecasts, pest outbreaks, and yield predictions help farmers make data-driven decisions.\n",
      "- **Supply Chain Optimization:** Reducing post-harvest losses via intelligent logistics.\n",
      "\n",
      "### Education\n",
      "\n",
      "- **Personalized Learning:** AI tutors adapt to individual learning speeds and styles.\n",
      "- **Content in Vernacular Languages:** Language models break literacy barriers, broadening access.\n",
      "- **Assessment Automation:** Saving teachers’ time and refining outcomes.\n",
      "\n",
      "### Finance & Banking\n",
      "\n",
      "- **Fraud Detection:** Pattern recognition to prevent scams and unauthorized transactions.\n",
      "- **Automated Lending:** Credit scoring and loan disbursement via AI assessments.\n",
      "- **Customer Service:** 24/7 chatbots handle routine queries.\n",
      "\n",
      "### Retail & E-commerce\n",
      "\n",
      "- **Personalized Recommendations:** Matching products to consumer preferences.\n",
      "- **Inventory Management:** AI forecasts demand and optimizes supply chains.\n",
      "- **Customer Experience:** Chatbots and visual search tools enhance engagement.\n",
      "\n",
      "### Smart Cities & Infrastructure\n",
      "\n",
      "- **Urban Mobility:** Smart traffic management and surveillance.\n",
      "- **Energy Management:** AI-enabled grids and consumption predictions.\n",
      "- **Public Safety:** Video analytics for crime detection and prevention.\n",
      "\n",
      "---\n",
      "\n",
      "## Leading AI Startups and Initiatives in India\n",
      "\n",
      "### Notable Startups\n",
      "\n",
      "- **Fractal Analytics:** Data-driven decision-making and AI-powered analytics for global clients.\n",
      "- **Niramai:** Pioneering non-invasive, AI-based breast cancer screening.\n",
      "- **Artivatic:** Deep learning for insurtech and fintech, enabling automated underwriting.\n",
      "\n",
      "### Established Giants\n",
      "\n",
      "- **TCS, Infosys, Wipro:** Investing in AI R&D, launching platforms in automation, analytics, and enterprise transformation.\n",
      "- **Reliance Industries:** Acquiring AI firms and building India-specific AI capabilities in telecom, retail, and digital services.\n",
      "\n",
      "### Collaborations & Centers of Excellence\n",
      "\n",
      "- **Academic\n"
     ]
    }
   ],
   "source": [
    "print(final_state['content'])"
   ]
  },
  {
   "cell_type": "code",
   "execution_count": 60,
   "id": "d5843c51",
   "metadata": {},
   "outputs": [
    {
     "name": "stdout",
     "output_type": "stream",
     "text": [
      "8\n",
      "\n",
      "**Reasoning:**  \n",
      "The blog is comprehensive, well-structured, and covers multiple aspects of AI in India: historical background, key growth drivers, sectoral impact, and leading companies/initiatives. The writing is clear, factual, and shows an understanding of the landscape. The content is data-rich and includes specific examples (e.g., Niramai, number of startups), government policies, and investments.\n",
      "\n",
      "**What keeps it from a 9 or 10:**\n",
      "- The concluding section appears cut off (ends abruptly at \"Academic\"), missing closure and a call to action or forecast that would give the post more impact.\n",
      "- Visuals, infographics, or quotes (if included) could increase engagement.\n",
      "- While informative, it could offer a bit more critical analysis (e.g., discussing ethical challenges, skill gaps, or risks of AI adoption in India).\n",
      "\n",
      "Overall: A strong, informative blog draft with room for slight improvement mainly in closure and deeper insights.\n"
     ]
    }
   ],
   "source": [
    "print(final_state['evaluate'])"
   ]
  },
  {
   "cell_type": "code",
   "execution_count": null,
   "id": "30b009e2",
   "metadata": {},
   "outputs": [],
   "source": []
  }
 ],
 "metadata": {
  "kernelspec": {
   "display_name": ".venv",
   "language": "python",
   "name": "python3"
  },
  "language_info": {
   "codemirror_mode": {
    "name": "ipython",
    "version": 3
   },
   "file_extension": ".py",
   "mimetype": "text/x-python",
   "name": "python",
   "nbconvert_exporter": "python",
   "pygments_lexer": "ipython3",
   "version": "3.13.2"
  }
 },
 "nbformat": 4,
 "nbformat_minor": 5
}
